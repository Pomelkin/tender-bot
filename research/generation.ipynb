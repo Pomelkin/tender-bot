{
 "cells": [
  {
   "cell_type": "code",
   "execution_count": 56,
   "metadata": {},
   "outputs": [],
   "source": [
    "from openai import OpenAI\n",
    "import logging"
   ]
  },
  {
   "cell_type": "code",
   "execution_count": 3,
   "metadata": {},
   "outputs": [
    {
     "name": "stdout",
     "output_type": "stream",
     "text": [
      "SyncPage[Model](data=[Model(id='google/gemma-2-9b-it', created=1726325750, object='model', owned_by='vllm', root='google/gemma-2-9b-it', parent=None, max_model_len=4096, permission=[{'id': 'modelperm-e8a0816e7ded488f86559be245591d78', 'object': 'model_permission', 'created': 1726325750, 'allow_create_engine': False, 'allow_sampling': True, 'allow_logprobs': True, 'allow_search_indices': False, 'allow_view': True, 'allow_fine_tuning': False, 'organization': '*', 'group': None, 'is_blocking': False}])], object='list')\n",
      "SyncPage[Model](data=[Model(id='Qwen/Qwen2-7B-Instruct', created=1726325750, object='model', owned_by='vllm', root='Qwen/Qwen2-7B-Instruct', parent=None, max_model_len=32768, permission=[{'id': 'modelperm-5220b7921e834388a9cc5c9025cfd975', 'object': 'model_permission', 'created': 1726325750, 'allow_create_engine': False, 'allow_sampling': True, 'allow_logprobs': True, 'allow_search_indices': False, 'allow_view': True, 'allow_fine_tuning': False, 'organization': '*', 'group': None, 'is_blocking': False}])], object='list')\n"
     ]
    }
   ],
   "source": [
    "client_gemma = OpenAI(\n",
    "    base_url=\"http://pomelk1n-dev.su:8000/v1\",\n",
    "    api_key=\"token-abc123\",\n",
    ")\n",
    "\n",
    "print(client_gemma.models.list())\n",
    "\n",
    "client_qwen = OpenAI(\n",
    "    base_url=\"http://pomelk1n-dev.su:8001/v1\",\n",
    "    api_key=\"token-abc123\",\n",
    ")\n",
    "\n",
    "print(client_qwen.models.list())"
   ]
  },
  {
   "cell_type": "code",
   "execution_count": 4,
   "metadata": {},
   "outputs": [
    {
     "data": {
      "text/plain": [
       "'Я — Gemma, большая языковая модель, обученная компанией Google DeepMind.\\n\\nЯ могу генерировать текст, переводить языки, писать разные виды творческого контента и отвечать на ваши вопросы в информативном стиле.\\n\\nЯ все еще нахожусь в разработке, но я многому научилась и с удовольствием поделюсь своими знаниями с вами!\\n'"
      ]
     },
     "execution_count": 4,
     "metadata": {},
     "output_type": "execute_result"
    }
   ],
   "source": [
    "completion = client_gemma.chat.completions.create(\n",
    "  model=\"google/gemma-2-9b-it\",\n",
    "  messages=[\n",
    "    {\"role\": \"user\", \"content\": \"Ты кто?\"}\n",
    "  ]\n",
    ")\n",
    "\n",
    "completion.choices[0].message.content"
   ]
  },
  {
   "cell_type": "code",
   "execution_count": 5,
   "metadata": {},
   "outputs": [],
   "source": [
    "def qwen_generate(system_message, user_message) -> str:\n",
    "  completion = client_qwen.chat.completions.create(\n",
    "    model=\"Qwen/Qwen2-7B-Instruct\",\n",
    "    messages=[\n",
    "      {\"role\": \"system\", \"content\": system_message},\n",
    "      {\"role\": \"user\", \"content\": user_message}\n",
    "    ],\n",
    "    max_tokens=1024,\n",
    "    temperature=0.0\n",
    "  )\n",
    "\n",
    "  return completion.choices[0].message.content"
   ]
  },
  {
   "cell_type": "code",
   "execution_count": 6,
   "metadata": {},
   "outputs": [],
   "source": [
    "system_prompt = \"Ты - квалифицированный специалист по составлению договоров и дополнительных соглашений к ним.\""
   ]
  },
  {
   "cell_type": "code",
   "execution_count": 7,
   "metadata": {},
   "outputs": [],
   "source": [
    "prompt_1 = \"\"\"Напиши изменения к договору согласно пожеланиям заказчика. \n",
    "\n",
    "Найди в тексте договора только те пункты, которые нужно изменить в соответствии с пожеланиями. Измени текст.\n",
    "\n",
    "Ответь в формате:\n",
    "\"Номер пункта \n",
    "Оригинальный текст -> новый текст\n",
    "...\n",
    "\"\n",
    "\n",
    "ПОЖЕЛАНИЯ ЗАКАЗЧИКА:\n",
    "{0}\n",
    "\n",
    "ТЕКСТ ДОГОВОРА:\n",
    "{1}\n",
    "\n",
    "ИЗМЕНЕНИЯ К ДОГОВОРУ:\n",
    "\"\"\""
   ]
  },
  {
   "cell_type": "code",
   "execution_count": 8,
   "metadata": {},
   "outputs": [],
   "source": [
    "with open('../documents/txts/Контракт 45-6.24.doc.txt', 'r') as file:\n",
    "    content = file.read()"
   ]
  },
  {
   "cell_type": "code",
   "execution_count": 9,
   "metadata": {},
   "outputs": [],
   "source": [
    "instruction = \"Сделай аванс 10% и общую цену контракта 10000р. Также поменяй, что в случае изменения реквизитов срок уведомления составляет 10 дней.\""
   ]
  },
  {
   "cell_type": "code",
   "execution_count": 10,
   "metadata": {},
   "outputs": [
    {
     "name": "stdout",
     "output_type": "stream",
     "text": [
      "\"Номер пункта \n",
      "Оригинальный текст -> новый текст\n",
      "...\n",
      "\n",
      "1.1.  Срок, место поставки установлены в Спецификации (Приложение 2 к настоящему Контракту).\n",
      "-> Срок, место и сумма поставки установлены в Спецификации (Приложение 2 к настоящему Контракту). Аванс составляет 10% от общего контрактного объема, который составляет 10 000 рублей. \n",
      "\n",
      "1.5.  Цена Контракта составляет 7 670 (Семь тысяч шестьсот семьдесят) рублей 00 копеек, в том числе НДС 20%.\n",
      "-> Цена Контракта составляет 10 000 (Десять тысяч) рублей 00 копеек, в том числе НДС 20%.\n",
      "\n",
      "1.9.  Аванс составляет 0 % от Цены Контракта.\n",
      "-> Аванс составляет 10% от общего контрактного объема, который составляет 10 000 рублей.\n",
      "\n",
      "1.10.  Источник финансирования: Бюджет Пермского края\n",
      "-> Источник финансирования: Бюджет Пермского края, аванс составляет 10% от общего контрактного объема, который составляет 10 000 рублей.\n",
      "\n",
      "2.1. Приемка Товара осуществляется в соответствии с Порядком приемки Товара (Приложение №3 к настоящему контракту)\n",
      "-> Приемка Товара осуществляется в соответствии с Порядком приемки Товара (Приложение №3 к настоящему контракту), в который внесены изменения. В случае изменения реквизитов, срок уведомления составляет 10 дней.\n",
      "\n",
      "2.2. За неисполнение или ненадлежащее исполнение своих обязательств, установленных настоящим Контрактом, стороны несут ответственность в соответствии со ст. 34 Закона о контрактной системе и Постановлением Правительства Российской  Федерации от 30.08.2017 №1042.\n",
      "-> За неисполнение или ненадлежащее исполнение своих обязательств, установленных настоящим Контрактом, стороны несут ответственность в соответствии со ст. 34 Закона о контрактной системе и Постановлением Правительства Российской Федерации от 30.08.2017 №1042, в котором внесены изменения. В случае изменения реквизитов, срок уведомления составляет 10 дней.\n",
      "\n",
      "2.5.\tРасторжение Контракта допускается по соглашению Сторон, по решению суда, в случае одностороннего отказа Стороны Контракта от исполнения Контракта в соответствии с гражданским законодательством.\n",
      "-> Расторжение Контракта допускается по соглашению Сторон, по решению суда, в случае одностороннего отказа Стороны Контракта от исполнения Контракта в соответствии с гражданским законодательством, в котором внесены изменения. В случае изменения реквизитов, срок уведомления составляет 10 дней.\n",
      "\n",
      "2.8.\tВ случае изменения местонахождения и (или) банковских реквизитов Сторона, у которой произошли такие изменения, обязана в течение 5 (Пяти) рабочих дней с момента вышеуказанных изменений письменно уведомить об этом другую Сторону.\n",
      "-> В случае изменения местонахождения и (или) банковских реквизитов Сторона, у которой произошли такие изменения, обязана в течение 10 (Десяти) рабочих дней с момента вышеуказанных изменений письменно уведомить об этом другую Сторону.\n",
      "\n",
      "2.9.  Весь   документооборот    между    Сторонами    осуществляется в электронной форме с использованием усиленной квалифицированной электронной подписи.\n",
      "-> Весь   документооборот    между    Сторонами    осуществляется в электронной форме с использованием усиленной квалифицированной электронной подписи, в которой в\n"
     ]
    }
   ],
   "source": [
    "qwen_generation = qwen_generate(system_message=system_prompt, user_message=prompt_1.format(instruction, content))\n",
    "print(qwen_generation)"
   ]
  },
  {
   "cell_type": "code",
   "execution_count": 11,
   "metadata": {},
   "outputs": [],
   "source": [
    "def gemma_generate(user_message, max_tokens=1024) -> str:\n",
    "  completion = client_gemma.chat.completions.create(\n",
    "    model=\"google/gemma-2-9b-it\",\n",
    "    messages=[\n",
    "      {\"role\": \"user\", \"content\": user_message}\n",
    "    ],\n",
    "    max_tokens=max_tokens,\n",
    "    temperature=0.0\n",
    "  )\n",
    "\n",
    "  return completion.choices[0].message.content"
   ]
  },
  {
   "cell_type": "code",
   "execution_count": 12,
   "metadata": {},
   "outputs": [],
   "source": [
    "prompt_2 = \"\"\"Ты - профессиональный составитель документов.\n",
    "\n",
    "Тебе поступил заказ по формированию изменений в документе.\n",
    "\n",
    "Система автоматически сформировала изменения в формате. В них могут быть ошибки или лишние изменения.\n",
    "\n",
    "Твоя задача - выбрать из изменений только те, которые удовлетворяют заказу, и оформить их по шаблону.\n",
    "\n",
    "Шаблон:\n",
    "\"1.1 Пункт N.M статьи N\n",
    "«N.M Измененный текст пункта»\n",
    "1.2 Пункт K.L статьи K\n",
    "«K.L Измененный текст пункта»\n",
    "...\n",
    "\"\n",
    "\n",
    "(!) Соблюдай формат нумерации изменений: 1.1, 1.2 и так далее. Он НЕ СОВПАДАЕТ с номерами пунктов документа.\n",
    "\n",
    "ЗАКАЗ:\n",
    "{0}\n",
    "\n",
    "АВТОМАТИЧЕСКИЕ ИЗМЕНЕНИЯ:\n",
    "{1}\n",
    "\n",
    "Ответь строго по шаблону:\n",
    "\"\"\""
   ]
  },
  {
   "cell_type": "code",
   "execution_count": 150,
   "metadata": {},
   "outputs": [
    {
     "name": "stdout",
     "output_type": "stream",
     "text": [
      "1.1 Пункт 1.1 статьи 1\n",
      "«Срок, место и сумма поставки установлены в Спецификации (Приложение 2 к настоящему Контракту). Аванс составляет 10% от общего контрактного объема, который составляет 10 000 рублей.»\n",
      "1.2 Пункт 1.5 статьи 1\n",
      "«Цена Контракта составляет 10 000 (Десять тысяч) рублей 00 копеек, в том числе НДС 20%.»\n",
      "1.3 Пункт 1.9 статьи 1\n",
      "«Аванс составляет 10% от общего контрактного объема, который составляет 10 000 рублей.»\n",
      "1.4 Пункт 2.8 статьи 2\n",
      "«В случае изменения местонахождения и (или) банковских реквизитов Сторона, у которой произошли такие изменения, обязана в течение 10 (Десяти) рабочих дней с момента вышеуказанных изменений письменно уведомить об этом другую Сторону.» \n",
      "\n",
      "\n",
      "\n"
     ]
    }
   ],
   "source": [
    "gemma_generation = gemma_generate(user_message=prompt_2.format(instruction, qwen_generation))\n",
    "print(gemma_generation)"
   ]
  },
  {
   "cell_type": "code",
   "execution_count": 151,
   "metadata": {},
   "outputs": [],
   "source": [
    "entity_prompt = \"\"\"Твоя задача - найти в отрывках документа эти сущности:\n",
    "\n",
    "Номер контракта/договора\n",
    "Населенный пункт\n",
    "Сторона 1 (заказчик)\n",
    "ФИО лица Стороны 1\n",
    "Должность лица Стороны 1\n",
    "Сторона 2 (исполнитель)\n",
    "ФИО лица Стороны 2\n",
    "Должность лица Стороны 2\n",
    "\n",
    "ОТРЫВОК ДОКУМЕНТА:\n",
    "{0}\n",
    "\n",
    "Напиши все сущности в этом порядке без форматирования через новую строку. Если сущности нет в тексте, оставь прочерк (символ '-') в этой строке. Если в тексте есть полные ФИО, пиши их, а не инициалы.\n",
    "\"\"\""
   ]
  },
  {
   "cell_type": "code",
   "execution_count": 152,
   "metadata": {},
   "outputs": [
    {
     "name": "stdout",
     "output_type": "stream",
     "text": [
      "45-6/24\n",
      "д.Кондратово\n",
      "Государственное казенное учреждение Пермского края \"Управление государственной противопожарной службы Пермского края\"\n",
      "Петухова Диана Анатольевна\n",
      "руководитель контрактной службы\n",
      "Общество с ограниченной ответственностью «Автоэксклюзив»\n",
      "Горелов Михаил Геннадьевич\n",
      "директор \n",
      "\n"
     ]
    }
   ],
   "source": [
    "entities_str = gemma_generate(user_message=entity_prompt.format(content[:2000] + content[-500:]))\n",
    "print(entities_str)"
   ]
  },
  {
   "cell_type": "code",
   "execution_count": 153,
   "metadata": {},
   "outputs": [
    {
     "data": {
      "text/plain": [
       "['45-6/24',\n",
       " 'д.Кондратово',\n",
       " 'Государственное казенное учреждение Пермского края \"Управление государственной противопожарной службы Пермского края\"',\n",
       " 'Петухова Диана Анатольевна',\n",
       " 'руководитель контрактной службы',\n",
       " 'Общество с ограниченной ответственностью «Автоэксклюзив»',\n",
       " 'Горелов Михаил Геннадьевич',\n",
       " 'директор ',\n",
       " '']"
      ]
     },
     "execution_count": 153,
     "metadata": {},
     "output_type": "execute_result"
    }
   ],
   "source": [
    "entities = entities_str.split('\\n')\n",
    "entities"
   ]
  },
  {
   "cell_type": "code",
   "execution_count": 154,
   "metadata": {},
   "outputs": [
    {
     "data": {
      "text/plain": [
       "'Государственное казенное учреждение Пермского края \"Управление государственной противопожарной службы Пермского края\"'"
      ]
     },
     "execution_count": 154,
     "metadata": {},
     "output_type": "execute_result"
    }
   ],
   "source": [
    "entities[2]"
   ]
  },
  {
   "cell_type": "code",
   "execution_count": 155,
   "metadata": {},
   "outputs": [],
   "source": [
    "import pymorphy3\n",
    "\n",
    "morph = pymorphy3.MorphAnalyzer()\n",
    "\n",
    "def genitive(word):\n",
    "    word = word.strip()\n",
    "    try:\n",
    "        if word != '-': \n",
    "            genitive_word = ''\n",
    "            for subword in word.split(' '):\n",
    "                parsed_word = morph.parse(subword)[0]\n",
    "                genitive_word += parsed_word.inflect({'gent'}).word.capitalize() + ' '\n",
    "            return genitive_word.strip()\n",
    "    except Exception as e:\n",
    "        logging.error(f\"{e}: {word}\")\n",
    "        return word\n",
    "    \n",
    "    return word"
   ]
  },
  {
   "cell_type": "code",
   "execution_count": 156,
   "metadata": {},
   "outputs": [],
   "source": [
    "try:\n",
    "    entities = entities_str.split('\\n')\n",
    "    number = entities[0]\n",
    "    place = entities[1]\n",
    "    party_1 = entities[2]\n",
    "    name_1 = entities[3]\n",
    "    position_1 = entities[4]\n",
    "    party_2 = entities[5]\n",
    "    name_2 = entities[6]\n",
    "    position_2 = entities[7]\n",
    "except Exception as e:\n",
    "    logging.error(e)\n",
    "    number = '-'\n",
    "    place = '-'\n",
    "    party_1 = '-'\n",
    "    name_1 = '-'\n",
    "    position_1 = '-'\n",
    "    party_2 = '-'\n",
    "    name_2 = '-'\n",
    "    position_2 = '-'    "
   ]
  },
  {
   "cell_type": "code",
   "execution_count": 157,
   "metadata": {},
   "outputs": [
    {
     "name": "stdout",
     "output_type": "stream",
     "text": [
      "14.09.24\n"
     ]
    }
   ],
   "source": [
    "from datetime import datetime\n",
    "\n",
    "# Create a datetime object\n",
    "now = datetime.now()\n",
    "\n",
    "# Format the datetime object to string in DD.MM.YY format\n",
    "timestamp = now.strftime(\"%d.%m.%y\")\n",
    "print(timestamp)"
   ]
  },
  {
   "cell_type": "code",
   "execution_count": 158,
   "metadata": {},
   "outputs": [
    {
     "data": {
      "text/plain": [
       "'-'"
      ]
     },
     "execution_count": 158,
     "metadata": {},
     "output_type": "execute_result"
    }
   ],
   "source": [
    "genitive('-')"
   ]
  },
  {
   "cell_type": "code",
   "execution_count": 159,
   "metadata": {},
   "outputs": [
    {
     "data": {
      "text/plain": [
       "'директор '"
      ]
     },
     "execution_count": 159,
     "metadata": {},
     "output_type": "execute_result"
    }
   ],
   "source": [
    "position_2"
   ]
  },
  {
   "cell_type": "code",
   "execution_count": 160,
   "metadata": {},
   "outputs": [
    {
     "data": {
      "text/plain": [
       "'Директора'"
      ]
     },
     "execution_count": 160,
     "metadata": {},
     "output_type": "execute_result"
    }
   ],
   "source": [
    "genitive(position_2)"
   ]
  },
  {
   "cell_type": "code",
   "execution_count": 161,
   "metadata": {},
   "outputs": [],
   "source": [
    "from datetime import datetime\n",
    "\n",
    "# Create a datetime object\n",
    "now = datetime.now()\n",
    "\n",
    "# Format the datetime object to string in DD.MM.YYYY format\n",
    "timestamp = now.strftime(\"%d.%m.%Y\")"
   ]
  },
  {
   "cell_type": "code",
   "execution_count": 162,
   "metadata": {},
   "outputs": [
    {
     "name": "stderr",
     "output_type": "stream",
     "text": [
      "ERROR:root:'NoneType' object has no attribute 'word': Общество с ограниченной ответственностью «Автоэксклюзив»\n"
     ]
    },
    {
     "data": {
      "text/plain": [
       "'Общество с ограниченной ответственностью «Автоэксклюзив»'"
      ]
     },
     "execution_count": 162,
     "metadata": {},
     "output_type": "execute_result"
    }
   ],
   "source": [
    "genitive(party_2)"
   ]
  },
  {
   "cell_type": "code",
   "execution_count": 163,
   "metadata": {},
   "outputs": [
    {
     "name": "stderr",
     "output_type": "stream",
     "text": [
      "ERROR:root:'NoneType' object has no attribute 'word': Общество с ограниченной ответственностью «Автоэксклюзив»\n"
     ]
    }
   ],
   "source": [
    "template = f\"\"\"<html>\n",
    "\n",
    "<head>\n",
    "<meta http-equiv=Content-Type content=\"text/html; charset=utf-8\">\n",
    "<meta name=Generator content=\"Microsoft Word 15 (filtered)\">\n",
    "<style>\n",
    "<!--\n",
    " /* Font Definitions */\n",
    " @font-face\n",
    "\t{{font-family:\"Cambria Math\";\n",
    "\tpanose-1:2 4 5 3 5 4 6 3 2 4;}}\n",
    "@font-face\n",
    "\t{{font-family:Calibri;\n",
    "\tpanose-1:2 15 5 2 2 2 4 3 2 4;}}\n",
    "@font-face\n",
    "\t{{font-family:Georgia;\n",
    "\tpanose-1:2 4 5 2 5 4 5 2 3 3;}}\n",
    "@font-face\n",
    "\t{{font-family:Cambria;\n",
    "\tpanose-1:2 4 5 3 5 4 6 3 2 4;}}\n",
    "@font-face\n",
    "\t{{font-family:Tahoma;\n",
    "\tpanose-1:2 11 6 4 3 5 4 4 2 4;}}\n",
    "@font-face\n",
    "\t{{font-family:\"MS Sans Serif\";\n",
    "\tpanose-1:0 0 0 0 0 0 0 0 0 0;}}\n",
    "@font-face\n",
    "\t{{font-family:TimesNewRomanPSMT;\n",
    "\tpanose-1:0 0 0 0 0 0 0 0 0 0;}}\n",
    " /* Style Definitions */\n",
    " p.MsoNormal, li.MsoNormal, div.MsoNormal\n",
    "\t{{margin:0in;\n",
    "\tfont-size:10.0pt;\n",
    "\tfont-family:\"Times New Roman\",serif;}}\n",
    ".MsoChpDefault\n",
    "\t{{font-size:10.0pt;}}\n",
    " /* Page Definitions */\n",
    " @page WordSection1\n",
    "\t{{size:595.3pt 841.9pt;\n",
    "\tmargin:56.7pt 28.35pt 56.7pt 56.7pt;}}\n",
    "div.WordSection1\n",
    "\t{{page:WordSection1;}}\n",
    " /* List Definitions */\n",
    " ol\n",
    "\t{{margin-bottom:0in;}}\n",
    "ul\n",
    "\t{{margin-bottom:0in;}}\n",
    "-->\n",
    "</style>\n",
    "\n",
    "</head>\n",
    "\n",
    "<body lang=EN-US style='word-wrap:break-word'>\n",
    "\n",
    "<div class=WordSection1>\n",
    "\n",
    "<p class=MsoNormal align=center style='text-align:center;text-indent:35.45pt;\n",
    "border:none'><b><span lang=RU style='font-size:12.0pt;color:black'>Дополнительное\n",
    "соглашение №1</span></b></p>\n",
    "\n",
    "<p class=MsoNormal align=center style='text-align:center;text-indent:35.45pt;\n",
    "border:none'><b><span lang=RU style='font-size:12.0pt;color:black'>к договору от {timestamp} № {number}</span></b></p>\n",
    "\n",
    "<p class=MsoNormal align=center style='text-align:center;text-indent:35.45pt;\n",
    "border:none'><span lang=RU style='font-size:12.0pt;color:black'>&nbsp;</span></p>\n",
    "\n",
    "<p class=MsoNormal style='display: flex; text-align:justify;border:none'><span lang=RU\n",
    "style='font-size:12.0pt;color:black'>{place}</span><span style=\" display: inline-block; margin-left: auto;\">{timestamp}</span></p>\n",
    "\n",
    "<p class=MsoNormal style='text-align:justify;text-indent:35.45pt;border:none'><span\n",
    "lang=RU style='font-size:12.0pt;color:black'>&nbsp;</span></p>\n",
    "\n",
    "<p class=MsoNormal style='text-align:justify;text-indent:35.45pt;border:none'><b><span\n",
    "lang=RU style='font-size:12.0pt;color:black'>{party_1}</span></b><span lang=RU\n",
    "style='font-size:12.0pt;color:black'>, в лице {genitive(position_1)} {genitive(name_1)}, действующего на основании ____________, именуемое в дальнейшем «<b>Заказчик</b>», с одной стороны, и </span></p>\n",
    "\n",
    "<p class=MsoNormal style='text-align:justify;text-indent:35.45pt;border:none'><b><span\n",
    "lang=RU style='font-size:12.0pt;color:black'>{party_2}</span></b><span lang=RU style='font-size:\n",
    "12.0pt;color:black'>, именуемое в дальнейшем<b> «Исполнитель», </b>в лице {genitive(position_2)}\n",
    "{genitive(party_2)}, действующего на основании ____________, с другой\n",
    "стороны, вместе именуемые «Стороны» и каждый в отдельности «Сторона»,<b> </b>заключили\n",
    "настоящее Дополнительное соглашение к к договору от {timestamp} № {number} (далее – Договор) о нижеследующем:</span></p>\n",
    "\n",
    "<p class=MsoNormal style='margin-left:0in;text-align:justify;text-indent:35.45pt;\n",
    "border:none'><span lang=RU style='font-size:12.0pt;color:black'>1.<span\n",
    "style='font:7.0pt \"Times New Roman\"'>&nbsp;&nbsp;&nbsp;&nbsp;&nbsp;&nbsp;&nbsp;&nbsp;&nbsp;&nbsp;&nbsp;&nbsp;&nbsp;&nbsp;&nbsp;&nbsp;&nbsp;&nbsp;\n",
    "</span></span><span lang=RU style='font-size:12.0pt;color:black'>Стороны приняли решение о внесении следующих изменений в условия Договора:</span></p>\"\"\" + '\\n\\n'.join([f\"<p class=MsoNormal style='margin-left:0in;text-align:justify;text-indent:35.45pt; border:none'><span lang=RU style='font-size:12.0pt'>{p}</span></p>\" for p in gemma_generation.split('\\n')]) + f\"\"\"<p class=MsoNormal style='margin-left:0in;text-align:justify;text-indent:35.45pt;\n",
    "border:none'><span lang=RU style='font-size:12.0pt;color:black'>2.<span\n",
    "style='font:7.0pt \"Times New Roman\"'>&nbsp;&nbsp;&nbsp;&nbsp;&nbsp;&nbsp;&nbsp;&nbsp;&nbsp;&nbsp;&nbsp;&nbsp;&nbsp;&nbsp;&nbsp;&nbsp;&nbsp;&nbsp;\n",
    "</span></span><span lang=RU style='font-size:12.0pt;color:black'>Настоящее\n",
    "Дополнительное соглашение № 1 является неотъемлемой частью Договора.</span></p>\n",
    "\n",
    "<p class=MsoNormal style='margin-left:0in;text-align:justify;text-indent:35.45pt;\n",
    "border:none'><span lang=RU style='font-size:12.0pt;color:black'>3.<span\n",
    "style='font:7.0pt \"Times New Roman\"'>&nbsp;&nbsp;&nbsp;&nbsp;&nbsp;&nbsp;&nbsp;&nbsp;&nbsp;&nbsp;&nbsp;&nbsp;&nbsp;&nbsp;&nbsp;&nbsp;&nbsp;&nbsp;\n",
    "</span></span><span lang=RU style='font-size:12.0pt;color:black'>Настоящее\n",
    "Дополнительное соглашение № 1 считается заключенным и вступает в силу с даты его подписания Сторонами и действует до полного исполнения\n",
    "Сторонами своих обязательств.</span></p>\n",
    "\n",
    "<p class=MsoNormal style='margin-left:0in;text-align:justify;text-indent:35.45pt;\n",
    "border:none'><span lang=RU style='font-size:12.0pt;color:black'>4.<span\n",
    "style='font:7.0pt \"Times New Roman\"'>&nbsp;&nbsp;&nbsp;&nbsp;&nbsp;&nbsp;&nbsp;&nbsp;&nbsp;&nbsp;&nbsp;&nbsp;&nbsp;&nbsp;&nbsp;&nbsp;&nbsp;&nbsp;\n",
    "</span></span><span lang=RU style='font-size:12.0pt;color:black'>По всем иным\n",
    "вопросам, не затронутым в настоящем Дополнительном соглашении № 1, Стороны\n",
    "руководствуются условиями Договора и действующим законодательством РФ.</span></p>\n",
    "\n",
    "<p class=MsoNormal style='margin-left:0in;text-align:justify;text-indent:35.45pt;\n",
    "border:none'><span lang=RU style='font-size:12.0pt;color:black'>5.<span\n",
    "style='font:7.0pt \"Times New Roman\"'>&nbsp;&nbsp;&nbsp;&nbsp;&nbsp;&nbsp;&nbsp;&nbsp;&nbsp;&nbsp;&nbsp;&nbsp;&nbsp;&nbsp;&nbsp;&nbsp;&nbsp;&nbsp;\n",
    "</span></span><span lang=RU style='font-size:12.0pt;color:black'>Подписи\n",
    "Сторон:</span></p>\n",
    "\n",
    "<p class=MsoNormal style='margin-left:35.45pt;text-align:justify;border:none'><span\n",
    "lang=RU style='font-size:12.0pt;color:black'>&nbsp;</span></p>\n",
    "\n",
    "<div align=center>\n",
    "\n",
    "<table class=1 border=0 cellspacing=0 cellpadding=0 width=624 style='border-collapse:\n",
    " collapse'>\n",
    " <tr style='height:176.95pt'>\n",
    "  <td width=338 valign=top style='width:253.4pt;padding:0in 4.2pt 0in 4.2pt;\n",
    "  height:176.95pt'>\n",
    "  <p class=MsoNormal style='border:none'><b><span lang=RU style='font-size:\n",
    "  12.0pt;color:black'>Заказчик:</span></b></p>\n",
    "  <p class=MsoNormal style='margin-right:10.0pt;border:none'><span lang=RU\n",
    "  style='font-size:12.0pt;color:black'>{party_1}<b> </b></span></p>\n",
    "  <p class=MsoNormal style='margin-right:10.0pt;border:none'><span lang=RU\n",
    "  style='font-size:12.0pt;color:black'>&nbsp;</span></p>\n",
    "  <p class=MsoNormal style='margin-right:10.0pt;border:none'><b><span lang=RU\n",
    "  style='font-size:12.0pt;color:black'>{position_1.capitalize()}</span></b></p>\n",
    "  <p class=MsoNormal style='margin-right:10.0pt;border:none'><span lang=RU\n",
    "  style='font-size:12.0pt;color:black'>&nbsp;</span></p>\n",
    "  <p class=MsoNormal style='margin-right:10.0pt;border:none'><span lang=RU\n",
    "  style='font-size:12.0pt;color:black'>&nbsp;</span></p>\n",
    "  <p class=MsoNormal style='margin-right:10.0pt;border:none'><b><span lang=RU\n",
    "  style='font-size:12.0pt;color:black'>_____________/ {name_1.split(' ')[0]}</span></b></p>\n",
    "  <p class=MsoNormal style='margin-right:10.0pt;border:none'><b><span lang=RU\n",
    "  style='font-size:12.0pt;color:black'>М.П.</span></b></p>\n",
    "  <p class=MsoNormal style='margin-right:24.1pt;border:none'><span lang=RU\n",
    "  style='font-size:12.0pt;color:black'>&nbsp;</span></p>\n",
    "  </td>\n",
    "  <td width=286 valign=top style='width:214.7pt;padding:0in 4.2pt 0in 4.2pt;\n",
    "  height:176.95pt'>\n",
    "  <p class=MsoNormal style='margin-right:24.1pt;border:none'><b><span lang=RU\n",
    "  style='font-size:12.0pt;color:black'>Поставщик</span></b><span lang=RU\n",
    "  style='font-size:12.0pt;color:black'>:</span></p>\n",
    "  <p class=MsoNormal style='margin-right:10.0pt;border:none'><span lang=RU\n",
    "  style='font-size:12.0pt;color:black'>{party_2}</span></p>\n",
    "  <p class=MsoNormal style='margin-right:10.0pt;border:none'><span lang=RU\n",
    "  style='font-size:12.0pt;color:black'>&nbsp;</span></p>\n",
    "  <p class=MsoNormal style='margin-right:10.0pt;border:none'><b><span lang=RU\n",
    "  style='font-size:12.0pt;color:black'>{position_2.capitalize()}</span></b></p>\n",
    "  <p class=MsoNormal style='margin-right:10.0pt;border:none'><span lang=RU\n",
    "  style='font-size:12.0pt;color:black'>&nbsp;</span></p>\n",
    "  <p class=MsoNormal style='margin-right:10.0pt;border:none'><span lang=RU\n",
    "  style='font-size:12.0pt;color:black'>&nbsp;</span></p>\n",
    "  <p class=MsoNormal style='margin-right:10.0pt;border:none'><span lang=RU\n",
    "  style='font-size:12.0pt;color:black'>&nbsp;</span></p>\n",
    "  <p class=MsoNormal style='margin-right:10.0pt;border:none'><b><span lang=RU\n",
    "  style='font-size:12.0pt;color:black'> _____________/ {name_2.split(' ')[0]}</span></b></p>\n",
    "  <p class=MsoNormal style='margin-right:24.1pt;border:none'><b><span lang=RU\n",
    "  style='font-size:12.0pt;color:black'>  М.П.</span></b></p>\n",
    "  <p class=MsoNormal style='margin-right:24.1pt;border:none'><span lang=RU\n",
    "  style='font-size:12.0pt;color:black'>&nbsp;</span></p>\n",
    "  </td>\n",
    " </tr>\n",
    "</table>\n",
    "\n",
    "</div>\n",
    "\n",
    "<p class=MsoNormal style='border:none'><span lang=RU style='font-size:12.0pt;\n",
    "color:black'>&nbsp;</span></p>\n",
    "\n",
    "</div>\n",
    "\n",
    "</body>\n",
    "\n",
    "</html>\n",
    "\"\"\""
   ]
  },
  {
   "cell_type": "code",
   "execution_count": 164,
   "metadata": {},
   "outputs": [],
   "source": [
    "# Save the string to an HTML file\n",
    "with open(\"sample.html\", \"w\") as file:\n",
    "    file.write(template)"
   ]
  },
  {
   "cell_type": "code",
   "execution_count": null,
   "metadata": {},
   "outputs": [],
   "source": []
  }
 ],
 "metadata": {
  "kernelspec": {
   "display_name": ".venv",
   "language": "python",
   "name": "python3"
  },
  "language_info": {
   "codemirror_mode": {
    "name": "ipython",
    "version": 3
   },
   "file_extension": ".py",
   "mimetype": "text/x-python",
   "name": "python",
   "nbconvert_exporter": "python",
   "pygments_lexer": "ipython3",
   "version": "3.12.4"
  }
 },
 "nbformat": 4,
 "nbformat_minor": 2
}
